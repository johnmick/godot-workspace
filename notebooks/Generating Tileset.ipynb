{
 "cells": [
  {
   "cell_type": "code",
   "execution_count": 127,
   "metadata": {},
   "outputs": [],
   "source": [
    "import os\n",
    "import glob\n",
    "import cv2"
   ]
  },
  {
   "cell_type": "markdown",
   "metadata": {},
   "source": [
    "#### Godot TSCN Generation Helpers"
   ]
  },
  {
   "cell_type": "code",
   "execution_count": 155,
   "metadata": {},
   "outputs": [],
   "source": [
    "def gd_scene(opts):\n",
    "    return \"[gd_scene load_steps={load_steps} format=2]\\n\".format(**opts)\n",
    "\n",
    "def ext_resource(opts):\n",
    "    return '[ext_resource path=\"{path}\" type=\"Texture\" id={id}]\\n'.format(**opts)\n",
    "\n",
    "def tile_markup(opts):\n",
    "    markup  = '{tile_id}/name = \"{tile_name}\"\\n'\n",
    "    markup += '{tile_id}/texture = ExtResource( {resource_id} )\\n'\n",
    "    markup += '{tile_id}/tex_offset = Vector2( 0, 0 )\\n'\n",
    "    markup += '{tile_id}/modulate = Color( 1, 1, 1, 1 )\\n'\n",
    "    markup += '{tile_id}/region = Rect2( {region_x_offset}, {region_y_offset}, 32, 32 )\\n'\n",
    "    markup += '{tile_id}/tile_mode = 0\\n'\n",
    "    markup += '{tile_id}/occluder_offset = Vector2( 0, 0 )\\n'\n",
    "    markup += '{tile_id}/navigation_offset = Vector2( 0, 0 )\\n'\n",
    "    markup += '{tile_id}/shapes = [  ]\\n'\n",
    "    markup += '{tile_id}/z_index = 0\\n'\n",
    "    return markup.format(**opts)\n",
    "\n",
    "def sub_resource(opts):\n",
    "    return '[sub_resource type=\"{type}\" id={id}]\\n'.format(**opts)\n",
    "\n",
    "def node(opts):\n",
    "    markup  = '[node name=\"{name}\" type=\"{type}\"]\\n'\n",
    "    markup += 'tile_set = SubResource( 1 )\\n'\n",
    "    markup += 'cell_size = Vector2( 32, 32 )\\n'\n",
    "    markup += 'format = 1\\n'\n",
    "    \n",
    "    return markup.format(**opts)"
   ]
  },
  {
   "cell_type": "markdown",
   "metadata": {},
   "source": [
    "#### Generating File"
   ]
  },
  {
   "cell_type": "code",
   "execution_count": 190,
   "metadata": {},
   "outputs": [],
   "source": [
    "def generate_tileset(target_file, target_files,tilemap_name):\n",
    "    ext_resources = []\n",
    "    tiles         = []\n",
    "    major_tile_id = 1\n",
    "    for resource_id, tilepath in enumerate(target_files):\n",
    "        resource_id += 1\n",
    "        basename    = os.path.basename(tilepath).lower()\n",
    "        img         = cv2.imread(tilepath)\n",
    "        num_horz    = int(img.shape[1] / 32)\n",
    "        num_vert    = int(img.shape[0] / 32)\n",
    "        ext_resources.append(ext_resource({\n",
    "            \"path\": \"res://tiles/type_1/%s\" % os.path.basename(tilepath),\n",
    "            \"id\":   resource_id\n",
    "        }))\n",
    "\n",
    "        sub_tile_id = 1\n",
    "        for x in range(num_horz):\n",
    "            for y in range(num_vert):\n",
    "                tiles.append(tile_markup({\n",
    "                    \"tile_id\": major_tile_id,\n",
    "                    \"tile_name\": \"%s_%04d\" % (basename, sub_tile_id),\n",
    "                    \"resource_id\": resource_id,\n",
    "                    \"region_x_offset\": x * 32,\n",
    "                    \"region_y_offset\": y * 32\n",
    "                }))\n",
    "                sub_tile_id += 1\n",
    "                major_tile_id += 1\n",
    "                \n",
    "    with open(target_file, \"w\") as f:\n",
    "        f.write(gd_scene({\"load_steps\": len(ext_resources)}))\n",
    "        for x in ext_resources: f.write(x)\n",
    "        f.write(sub_resource({\"type\":\"TileSet\", \"id\": 1}))\n",
    "        for x in tiles: f.write(x)\n",
    "        f.write(node({\"name\":tilemap_name, \"type\":\"TileMap\"}))"
   ]
  },
  {
   "cell_type": "code",
   "execution_count": 191,
   "metadata": {},
   "outputs": [],
   "source": [
    "generate_tileset(\n",
    "    target_file  = \"E:/__godot-workspace/net-2d-topdown-test/tiles/new_tiles.tscn\",\n",
    "    target_files = glob.glob(\"E:/__godot-workspace/net-2d-topdown-test/tiles/type_1/*Base*.png\"),\n",
    "    tilemap_name = \"new_tiles\"\n",
    ")"
   ]
  }
 ],
 "metadata": {
  "kernelspec": {
   "display_name": "Python 3",
   "language": "python",
   "name": "python3"
  },
  "language_info": {
   "codemirror_mode": {
    "name": "ipython",
    "version": 3
   },
   "file_extension": ".py",
   "mimetype": "text/x-python",
   "name": "python",
   "nbconvert_exporter": "python",
   "pygments_lexer": "ipython3",
   "version": "3.7.1"
  }
 },
 "nbformat": 4,
 "nbformat_minor": 2
}
